{
 "cells": [
  {
   "cell_type": "code",
   "execution_count": 1,
   "metadata": {
    "id": "igMyGnjE9hEp"
   },
   "outputs": [
    {
     "name": "stdout",
     "output_type": "stream",
     "text": [
      "WARNING:tensorflow:From C:\\Users\\padol\\AppData\\Roaming\\Python\\Python311\\site-packages\\keras\\src\\losses.py:2976: The name tf.losses.sparse_softmax_cross_entropy is deprecated. Please use tf.compat.v1.losses.sparse_softmax_cross_entropy instead.\n",
      "\n"
     ]
    }
   ],
   "source": [
    "import csv\n",
    "\n",
    "import numpy as np\n",
    "import tensorflow as tf\n",
    "from sklearn.model_selection import train_test_split\n",
    "\n",
    "RANDOM_SEED = 42"
   ]
  },
  {
   "cell_type": "markdown",
   "metadata": {
    "id": "t2HDvhIu9hEr"
   },
   "source": [
    "# Specify each path"
   ]
  },
  {
   "cell_type": "code",
   "execution_count": 2,
   "metadata": {
    "id": "9NvZP2Zn9hEy"
   },
   "outputs": [],
   "source": [
    "dataset = 'model/keypoint_classifier/keypoint.csv'\n",
    "model_save_path = 'model/keypoint_classifier/keypoint_classifier.hdf5'\n",
    "tflite_save_path = 'model/keypoint_classifier/keypoint_classifier.tflite'"
   ]
  },
  {
   "cell_type": "markdown",
   "metadata": {
    "id": "s5oMH7x19hEz"
   },
   "source": [
    "# Set number of classes"
   ]
  },
  {
   "cell_type": "code",
   "execution_count": 3,
   "metadata": {
    "id": "du4kodXL9hEz"
   },
   "outputs": [],
   "source": [
    "NUM_CLASSES = 4"
   ]
  },
  {
   "cell_type": "markdown",
   "metadata": {
    "id": "XjnL0uso9hEz"
   },
   "source": [
    "# Dataset reading"
   ]
  },
  {
   "cell_type": "code",
   "execution_count": 4,
   "metadata": {
    "id": "QT5ZqtEz9hE0"
   },
   "outputs": [],
   "source": [
    "X_dataset = np.loadtxt(dataset, delimiter=',', dtype='float32', usecols=list(range(1, (21 * 2) + 1)))"
   ]
  },
  {
   "cell_type": "code",
   "execution_count": 5,
   "metadata": {
    "id": "QmoKFsp49hE0"
   },
   "outputs": [],
   "source": [
    "y_dataset = np.loadtxt(dataset, delimiter=',', dtype='int32', usecols=(0))"
   ]
  },
  {
   "cell_type": "code",
   "execution_count": 6,
   "metadata": {
    "id": "xQU7JTZ_9hE0"
   },
   "outputs": [],
   "source": [
    "X_train, X_test, y_train, y_test = train_test_split(X_dataset, y_dataset, train_size=0.75, random_state=RANDOM_SEED)"
   ]
  },
  {
   "cell_type": "markdown",
   "metadata": {
    "id": "mxK_lETT9hE0"
   },
   "source": [
    "# Model building"
   ]
  },
  {
   "cell_type": "code",
   "execution_count": 7,
   "metadata": {
    "id": "vHBmUf1t9hE1"
   },
   "outputs": [
    {
     "name": "stdout",
     "output_type": "stream",
     "text": [
      "WARNING:tensorflow:From C:\\Users\\padol\\AppData\\Roaming\\Python\\Python311\\site-packages\\keras\\src\\backend.py:1398: The name tf.executing_eagerly_outside_functions is deprecated. Please use tf.compat.v1.executing_eagerly_outside_functions instead.\n",
      "\n"
     ]
    }
   ],
   "source": [
    "model = tf.keras.models.Sequential([\n",
    "    tf.keras.layers.Input((21 * 2, )),\n",
    "    tf.keras.layers.Dropout(0.2),\n",
    "    tf.keras.layers.Dense(20, activation='relu'),\n",
    "    tf.keras.layers.Dropout(0.4),\n",
    "    tf.keras.layers.Dense(10, activation='relu'),\n",
    "    tf.keras.layers.Dense(NUM_CLASSES, activation='softmax')\n",
    "])"
   ]
  },
  {
   "cell_type": "code",
   "execution_count": 8,
   "metadata": {
    "colab": {
     "base_uri": "https://localhost:8080/"
    },
    "id": "ypqky9tc9hE1",
    "outputId": "5db082bb-30e3-4110-bf63-a1ee777ecd46"
   },
   "outputs": [
    {
     "name": "stdout",
     "output_type": "stream",
     "text": [
      "Model: \"sequential\"\n",
      "_________________________________________________________________\n",
      " Layer (type)                Output Shape              Param #   \n",
      "=================================================================\n",
      " dropout (Dropout)           (None, 42)                0         \n",
      "                                                                 \n",
      " dense (Dense)               (None, 20)                860       \n",
      "                                                                 \n",
      " dropout_1 (Dropout)         (None, 20)                0         \n",
      "                                                                 \n",
      " dense_1 (Dense)             (None, 10)                210       \n",
      "                                                                 \n",
      " dense_2 (Dense)             (None, 4)                 44        \n",
      "                                                                 \n",
      "=================================================================\n",
      "Total params: 1114 (4.35 KB)\n",
      "Trainable params: 1114 (4.35 KB)\n",
      "Non-trainable params: 0 (0.00 Byte)\n",
      "_________________________________________________________________\n"
     ]
    }
   ],
   "source": [
    "model.summary()  # tf.keras.utils.plot_model(model, show_shapes=True)"
   ]
  },
  {
   "cell_type": "code",
   "execution_count": 9,
   "metadata": {
    "id": "MbMjOflQ9hE1"
   },
   "outputs": [],
   "source": [
    "# Model checkpoint callback\n",
    "cp_callback = tf.keras.callbacks.ModelCheckpoint(\n",
    "    model_save_path, verbose=1, save_weights_only=False)\n",
    "# Callback for early stopping\n",
    "es_callback = tf.keras.callbacks.EarlyStopping(patience=20, verbose=1)"
   ]
  },
  {
   "cell_type": "code",
   "execution_count": 10,
   "metadata": {
    "id": "c3Dac0M_9hE2"
   },
   "outputs": [
    {
     "name": "stdout",
     "output_type": "stream",
     "text": [
      "WARNING:tensorflow:From C:\\Users\\padol\\AppData\\Roaming\\Python\\Python311\\site-packages\\keras\\src\\optimizers\\__init__.py:309: The name tf.train.Optimizer is deprecated. Please use tf.compat.v1.train.Optimizer instead.\n",
      "\n"
     ]
    }
   ],
   "source": [
    "# Model compilation\n",
    "model.compile(\n",
    "    optimizer='adam',\n",
    "    loss='sparse_categorical_crossentropy',\n",
    "    metrics=['accuracy']\n",
    ")"
   ]
  },
  {
   "cell_type": "markdown",
   "metadata": {
    "id": "7XI0j1Iu9hE2"
   },
   "source": [
    "# Model training"
   ]
  },
  {
   "cell_type": "code",
   "execution_count": 11,
   "metadata": {
    "colab": {
     "base_uri": "https://localhost:8080/"
    },
    "id": "WirBl-JE9hE3",
    "outputId": "71b30ca2-8294-4d9d-8aa2-800d90d399de",
    "scrolled": true
   },
   "outputs": [
    {
     "name": "stdout",
     "output_type": "stream",
     "text": [
      "Epoch 1/1000\n",
      "WARNING:tensorflow:From C:\\Users\\padol\\AppData\\Roaming\\Python\\Python311\\site-packages\\keras\\src\\utils\\tf_utils.py:492: The name tf.ragged.RaggedTensorValue is deprecated. Please use tf.compat.v1.ragged.RaggedTensorValue instead.\n",
      "\n",
      "WARNING:tensorflow:From C:\\Users\\padol\\AppData\\Roaming\\Python\\Python311\\site-packages\\keras\\src\\engine\\base_layer_utils.py:384: The name tf.executing_eagerly_outside_functions is deprecated. Please use tf.compat.v1.executing_eagerly_outside_functions instead.\n",
      "\n",
      "25/29 [========================>.....] - ETA: 0s - loss: 1.4662 - accuracy: 0.3106 \n",
      "Epoch 1: saving model to model/keypoint_classifier\\keypoint_classifier.hdf5\n",
      "29/29 [==============================] - 2s 21ms/step - loss: 1.4529 - accuracy: 0.3136 - val_loss: 1.2512 - val_accuracy: 0.4252\n",
      "Epoch 2/1000\n",
      "19/29 [==================>...........] - ETA: 0s - loss: 1.3080 - accuracy: 0.3598"
     ]
    },
    {
     "name": "stderr",
     "output_type": "stream",
     "text": [
      "C:\\Users\\padol\\AppData\\Roaming\\Python\\Python311\\site-packages\\keras\\src\\engine\\training.py:3103: UserWarning: You are saving your model as an HDF5 file via `model.save()`. This file format is considered legacy. We recommend using instead the native Keras format, e.g. `model.save('my_model.keras')`.\n",
      "  saving_api.save_model(\n"
     ]
    },
    {
     "name": "stdout",
     "output_type": "stream",
     "text": [
      "\n",
      "Epoch 2: saving model to model/keypoint_classifier\\keypoint_classifier.hdf5\n",
      "29/29 [==============================] - 0s 6ms/step - loss: 1.3077 - accuracy: 0.3546 - val_loss: 1.2023 - val_accuracy: 0.3952\n",
      "Epoch 3/1000\n",
      "20/29 [===================>..........] - ETA: 0s - loss: 1.2570 - accuracy: 0.3582\n",
      "Epoch 3: saving model to model/keypoint_classifier\\keypoint_classifier.hdf5\n",
      "29/29 [==============================] - 0s 6ms/step - loss: 1.2495 - accuracy: 0.3627 - val_loss: 1.1669 - val_accuracy: 0.4269\n",
      "Epoch 4/1000\n",
      "22/29 [=====================>........] - ETA: 0s - loss: 1.2230 - accuracy: 0.3771\n",
      "Epoch 4: saving model to model/keypoint_classifier\\keypoint_classifier.hdf5\n",
      "29/29 [==============================] - 0s 5ms/step - loss: 1.2159 - accuracy: 0.3861 - val_loss: 1.1277 - val_accuracy: 0.4979\n",
      "Epoch 5/1000\n",
      "24/29 [=======================>......] - ETA: 0s - loss: 1.1869 - accuracy: 0.4095\n",
      "Epoch 5: saving model to model/keypoint_classifier\\keypoint_classifier.hdf5\n",
      "29/29 [==============================] - 0s 5ms/step - loss: 1.1867 - accuracy: 0.4072 - val_loss: 1.0989 - val_accuracy: 0.5146\n",
      "Epoch 6/1000\n",
      "24/29 [=======================>......] - ETA: 0s - loss: 1.1638 - accuracy: 0.4147\n",
      "Epoch 6: saving model to model/keypoint_classifier\\keypoint_classifier.hdf5\n",
      "29/29 [==============================] - 0s 5ms/step - loss: 1.1601 - accuracy: 0.4192 - val_loss: 1.0784 - val_accuracy: 0.5180\n",
      "Epoch 7/1000\n",
      "28/29 [===========================>..] - ETA: 0s - loss: 1.1386 - accuracy: 0.4258\n",
      "Epoch 7: saving model to model/keypoint_classifier\\keypoint_classifier.hdf5\n",
      "29/29 [==============================] - 0s 5ms/step - loss: 1.1387 - accuracy: 0.4253 - val_loss: 1.0570 - val_accuracy: 0.5138\n",
      "Epoch 8/1000\n",
      "24/29 [=======================>......] - ETA: 0s - loss: 1.1228 - accuracy: 0.4404\n",
      "Epoch 8: saving model to model/keypoint_classifier\\keypoint_classifier.hdf5\n",
      "29/29 [==============================] - 0s 5ms/step - loss: 1.1207 - accuracy: 0.4387 - val_loss: 1.0373 - val_accuracy: 0.5305\n",
      "Epoch 9/1000\n",
      "25/29 [========================>.....] - ETA: 0s - loss: 1.1051 - accuracy: 0.4588\n",
      "Epoch 9: saving model to model/keypoint_classifier\\keypoint_classifier.hdf5\n",
      "29/29 [==============================] - 0s 5ms/step - loss: 1.1023 - accuracy: 0.4599 - val_loss: 1.0083 - val_accuracy: 0.5380\n",
      "Epoch 10/1000\n",
      "26/29 [=========================>....] - ETA: 0s - loss: 1.0854 - accuracy: 0.4600\n",
      "Epoch 10: saving model to model/keypoint_classifier\\keypoint_classifier.hdf5\n",
      "29/29 [==============================] - 0s 5ms/step - loss: 1.0867 - accuracy: 0.4607 - val_loss: 0.9817 - val_accuracy: 0.5622\n",
      "Epoch 11/1000\n",
      "27/29 [==========================>...] - ETA: 0s - loss: 1.0644 - accuracy: 0.4719\n",
      "Epoch 11: saving model to model/keypoint_classifier\\keypoint_classifier.hdf5\n",
      "29/29 [==============================] - 0s 6ms/step - loss: 1.0644 - accuracy: 0.4719 - val_loss: 0.9548 - val_accuracy: 0.5723\n",
      "Epoch 12/1000\n",
      "26/29 [=========================>....] - ETA: 0s - loss: 1.0450 - accuracy: 0.4883\n",
      "Epoch 12: saving model to model/keypoint_classifier\\keypoint_classifier.hdf5\n",
      "29/29 [==============================] - 0s 5ms/step - loss: 1.0412 - accuracy: 0.4936 - val_loss: 0.9219 - val_accuracy: 0.5831\n",
      "Epoch 13/1000\n",
      "22/29 [=====================>........] - ETA: 0s - loss: 1.0290 - accuracy: 0.5028\n",
      "Epoch 13: saving model to model/keypoint_classifier\\keypoint_classifier.hdf5\n",
      "29/29 [==============================] - 0s 6ms/step - loss: 1.0280 - accuracy: 0.5017 - val_loss: 0.8935 - val_accuracy: 0.6366\n",
      "Epoch 14/1000\n",
      "27/29 [==========================>...] - ETA: 0s - loss: 1.0033 - accuracy: 0.5243\n",
      "Epoch 14: saving model to model/keypoint_classifier\\keypoint_classifier.hdf5\n",
      "29/29 [==============================] - 0s 4ms/step - loss: 0.9988 - accuracy: 0.5284 - val_loss: 0.8632 - val_accuracy: 0.7160\n",
      "Epoch 15/1000\n",
      "27/29 [==========================>...] - ETA: 0s - loss: 0.9864 - accuracy: 0.5347\n",
      "Epoch 15: saving model to model/keypoint_classifier\\keypoint_classifier.hdf5\n",
      "29/29 [==============================] - 0s 5ms/step - loss: 0.9858 - accuracy: 0.5334 - val_loss: 0.8354 - val_accuracy: 0.7001\n",
      "Epoch 16/1000\n",
      "25/29 [========================>.....] - ETA: 0s - loss: 0.9640 - accuracy: 0.5466\n",
      "Epoch 16: saving model to model/keypoint_classifier\\keypoint_classifier.hdf5\n",
      "29/29 [==============================] - 0s 6ms/step - loss: 0.9592 - accuracy: 0.5526 - val_loss: 0.7971 - val_accuracy: 0.7652\n",
      "Epoch 17/1000\n",
      "26/29 [=========================>....] - ETA: 0s - loss: 0.9387 - accuracy: 0.5715\n",
      "Epoch 17: saving model to model/keypoint_classifier\\keypoint_classifier.hdf5\n",
      "29/29 [==============================] - 0s 5ms/step - loss: 0.9413 - accuracy: 0.5688 - val_loss: 0.7653 - val_accuracy: 0.7728\n",
      "Epoch 18/1000\n",
      "26/29 [=========================>....] - ETA: 0s - loss: 0.9272 - accuracy: 0.5820\n",
      "Epoch 18: saving model to model/keypoint_classifier\\keypoint_classifier.hdf5\n",
      "29/29 [==============================] - 0s 6ms/step - loss: 0.9239 - accuracy: 0.5841 - val_loss: 0.7328 - val_accuracy: 0.7870\n",
      "Epoch 19/1000\n",
      "24/29 [=======================>......] - ETA: 0s - loss: 0.9154 - accuracy: 0.5798\n",
      "Epoch 19: saving model to model/keypoint_classifier\\keypoint_classifier.hdf5\n",
      "29/29 [==============================] - 0s 5ms/step - loss: 0.9100 - accuracy: 0.5858 - val_loss: 0.7100 - val_accuracy: 0.7937\n",
      "Epoch 20/1000\n",
      "27/29 [==========================>...] - ETA: 0s - loss: 0.8777 - accuracy: 0.5897\n",
      "Epoch 20: saving model to model/keypoint_classifier\\keypoint_classifier.hdf5\n",
      "29/29 [==============================] - 0s 5ms/step - loss: 0.8754 - accuracy: 0.5903 - val_loss: 0.6783 - val_accuracy: 0.8003\n",
      "Epoch 21/1000\n",
      "24/29 [=======================>......] - ETA: 0s - loss: 0.8549 - accuracy: 0.6188\n",
      "Epoch 21: saving model to model/keypoint_classifier\\keypoint_classifier.hdf5\n",
      "29/29 [==============================] - 0s 4ms/step - loss: 0.8605 - accuracy: 0.6139 - val_loss: 0.6471 - val_accuracy: 0.8212\n",
      "Epoch 22/1000\n",
      "26/29 [=========================>....] - ETA: 0s - loss: 0.8422 - accuracy: 0.6097\n",
      "Epoch 22: saving model to model/keypoint_classifier\\keypoint_classifier.hdf5\n",
      "29/29 [==============================] - 0s 5ms/step - loss: 0.8392 - accuracy: 0.6109 - val_loss: 0.6266 - val_accuracy: 0.8279\n",
      "Epoch 23/1000\n",
      "24/29 [=======================>......] - ETA: 0s - loss: 0.8265 - accuracy: 0.6309\n",
      "Epoch 23: saving model to model/keypoint_classifier\\keypoint_classifier.hdf5\n",
      "29/29 [==============================] - 0s 5ms/step - loss: 0.8177 - accuracy: 0.6393 - val_loss: 0.6022 - val_accuracy: 0.8396\n",
      "Epoch 24/1000\n",
      "25/29 [========================>.....] - ETA: 0s - loss: 0.8037 - accuracy: 0.6481\n",
      "Epoch 24: saving model to model/keypoint_classifier\\keypoint_classifier.hdf5\n",
      "29/29 [==============================] - 0s 5ms/step - loss: 0.8030 - accuracy: 0.6513 - val_loss: 0.5774 - val_accuracy: 0.8279\n",
      "Epoch 25/1000\n",
      "25/29 [========================>.....] - ETA: 0s - loss: 0.8069 - accuracy: 0.6459\n",
      "Epoch 25: saving model to model/keypoint_classifier\\keypoint_classifier.hdf5\n",
      "29/29 [==============================] - 0s 6ms/step - loss: 0.7977 - accuracy: 0.6499 - val_loss: 0.5582 - val_accuracy: 0.8555\n",
      "Epoch 26/1000\n",
      "22/29 [=====================>........] - ETA: 0s - loss: 0.7749 - accuracy: 0.6598\n",
      "Epoch 26: saving model to model/keypoint_classifier\\keypoint_classifier.hdf5\n",
      "29/29 [==============================] - 0s 5ms/step - loss: 0.7674 - accuracy: 0.6630 - val_loss: 0.5290 - val_accuracy: 0.8596\n",
      "Epoch 27/1000\n",
      "27/29 [==========================>...] - ETA: 0s - loss: 0.7684 - accuracy: 0.6574\n",
      "Epoch 27: saving model to model/keypoint_classifier\\keypoint_classifier.hdf5\n",
      "29/29 [==============================] - 0s 5ms/step - loss: 0.7667 - accuracy: 0.6588 - val_loss: 0.5092 - val_accuracy: 0.8789\n",
      "Epoch 28/1000\n",
      "25/29 [========================>.....] - ETA: 0s - loss: 0.7466 - accuracy: 0.6675\n",
      "Epoch 28: saving model to model/keypoint_classifier\\keypoint_classifier.hdf5\n",
      "29/29 [==============================] - 0s 5ms/step - loss: 0.7555 - accuracy: 0.6638 - val_loss: 0.5001 - val_accuracy: 0.8789\n",
      "Epoch 29/1000\n",
      "24/29 [=======================>......] - ETA: 0s - loss: 0.7216 - accuracy: 0.6904\n",
      "Epoch 29: saving model to model/keypoint_classifier\\keypoint_classifier.hdf5\n",
      "29/29 [==============================] - 0s 5ms/step - loss: 0.7272 - accuracy: 0.6858 - val_loss: 0.4810 - val_accuracy: 0.8897\n",
      "Epoch 30/1000\n",
      "25/29 [========================>.....] - ETA: 0s - loss: 0.7252 - accuracy: 0.6875\n",
      "Epoch 30: saving model to model/keypoint_classifier\\keypoint_classifier.hdf5\n",
      "29/29 [==============================] - 0s 5ms/step - loss: 0.7267 - accuracy: 0.6864 - val_loss: 0.4681 - val_accuracy: 0.8872\n",
      "Epoch 31/1000\n",
      "21/29 [====================>.........] - ETA: 0s - loss: 0.7321 - accuracy: 0.6793\n",
      "Epoch 31: saving model to model/keypoint_classifier\\keypoint_classifier.hdf5\n",
      "29/29 [==============================] - 0s 5ms/step - loss: 0.7307 - accuracy: 0.6819 - val_loss: 0.4559 - val_accuracy: 0.9039\n",
      "Epoch 32/1000\n",
      "26/29 [=========================>....] - ETA: 0s - loss: 0.7215 - accuracy: 0.6848\n",
      "Epoch 32: saving model to model/keypoint_classifier\\keypoint_classifier.hdf5\n",
      "29/29 [==============================] - 0s 5ms/step - loss: 0.7209 - accuracy: 0.6852 - val_loss: 0.4479 - val_accuracy: 0.8997\n",
      "Epoch 33/1000\n",
      "24/29 [=======================>......] - ETA: 0s - loss: 0.7007 - accuracy: 0.7018\n",
      "Epoch 33: saving model to model/keypoint_classifier\\keypoint_classifier.hdf5\n",
      "29/29 [==============================] - 0s 5ms/step - loss: 0.6962 - accuracy: 0.7045 - val_loss: 0.4347 - val_accuracy: 0.9039\n",
      "Epoch 34/1000\n",
      "24/29 [=======================>......] - ETA: 0s - loss: 0.7047 - accuracy: 0.6908\n",
      "Epoch 34: saving model to model/keypoint_classifier\\keypoint_classifier.hdf5\n",
      "29/29 [==============================] - 0s 5ms/step - loss: 0.7096 - accuracy: 0.6897 - val_loss: 0.4261 - val_accuracy: 0.9081\n",
      "Epoch 35/1000\n",
      "25/29 [========================>.....] - ETA: 0s - loss: 0.6802 - accuracy: 0.7147\n",
      "Epoch 35: saving model to model/keypoint_classifier\\keypoint_classifier.hdf5\n",
      "29/29 [==============================] - 0s 5ms/step - loss: 0.6789 - accuracy: 0.7114 - val_loss: 0.4164 - val_accuracy: 0.9073\n",
      "Epoch 36/1000\n",
      "25/29 [========================>.....] - ETA: 0s - loss: 0.6842 - accuracy: 0.7034\n",
      "Epoch 36: saving model to model/keypoint_classifier\\keypoint_classifier.hdf5\n",
      "29/29 [==============================] - 0s 6ms/step - loss: 0.6767 - accuracy: 0.7075 - val_loss: 0.4072 - val_accuracy: 0.9056\n",
      "Epoch 37/1000\n",
      "28/29 [===========================>..] - ETA: 0s - loss: 0.6822 - accuracy: 0.7112\n",
      "Epoch 37: saving model to model/keypoint_classifier\\keypoint_classifier.hdf5\n",
      "29/29 [==============================] - 0s 5ms/step - loss: 0.6822 - accuracy: 0.7114 - val_loss: 0.4083 - val_accuracy: 0.9064\n",
      "Epoch 38/1000\n",
      "23/29 [======================>.......] - ETA: 0s - loss: 0.6615 - accuracy: 0.7252\n",
      "Epoch 38: saving model to model/keypoint_classifier\\keypoint_classifier.hdf5\n",
      "29/29 [==============================] - 0s 5ms/step - loss: 0.6692 - accuracy: 0.7195 - val_loss: 0.3957 - val_accuracy: 0.9023\n",
      "Epoch 39/1000\n",
      "26/29 [=========================>....] - ETA: 0s - loss: 0.6628 - accuracy: 0.7221\n",
      "Epoch 39: saving model to model/keypoint_classifier\\keypoint_classifier.hdf5\n",
      "29/29 [==============================] - 0s 6ms/step - loss: 0.6598 - accuracy: 0.7251 - val_loss: 0.3883 - val_accuracy: 0.9131\n",
      "Epoch 40/1000\n",
      "24/29 [=======================>......] - ETA: 0s - loss: 0.6450 - accuracy: 0.7253\n",
      "Epoch 40: saving model to model/keypoint_classifier\\keypoint_classifier.hdf5\n",
      "29/29 [==============================] - 0s 5ms/step - loss: 0.6414 - accuracy: 0.7279 - val_loss: 0.3773 - val_accuracy: 0.9114\n",
      "Epoch 41/1000\n",
      "27/29 [==========================>...] - ETA: 0s - loss: 0.6588 - accuracy: 0.7237\n",
      "Epoch 41: saving model to model/keypoint_classifier\\keypoint_classifier.hdf5\n",
      "29/29 [==============================] - 0s 5ms/step - loss: 0.6595 - accuracy: 0.7226 - val_loss: 0.3687 - val_accuracy: 0.9173\n",
      "Epoch 42/1000\n",
      "24/29 [=======================>......] - ETA: 0s - loss: 0.6636 - accuracy: 0.7311\n",
      "Epoch 42: saving model to model/keypoint_classifier\\keypoint_classifier.hdf5\n",
      "29/29 [==============================] - 0s 5ms/step - loss: 0.6662 - accuracy: 0.7301 - val_loss: 0.3718 - val_accuracy: 0.9148\n",
      "Epoch 43/1000\n",
      "20/29 [===================>..........] - ETA: 0s - loss: 0.6580 - accuracy: 0.7141\n",
      "Epoch 43: saving model to model/keypoint_classifier\\keypoint_classifier.hdf5\n",
      "29/29 [==============================] - 0s 6ms/step - loss: 0.6485 - accuracy: 0.7189 - val_loss: 0.3808 - val_accuracy: 0.9206\n",
      "Epoch 44/1000\n",
      "25/29 [========================>.....] - ETA: 0s - loss: 0.6362 - accuracy: 0.7375\n",
      "Epoch 44: saving model to model/keypoint_classifier\\keypoint_classifier.hdf5\n",
      "29/29 [==============================] - 0s 5ms/step - loss: 0.6318 - accuracy: 0.7412 - val_loss: 0.3642 - val_accuracy: 0.9231\n",
      "Epoch 45/1000\n",
      "27/29 [==========================>...] - ETA: 0s - loss: 0.6177 - accuracy: 0.7486\n",
      "Epoch 45: saving model to model/keypoint_classifier\\keypoint_classifier.hdf5\n",
      "29/29 [==============================] - 0s 5ms/step - loss: 0.6181 - accuracy: 0.7490 - val_loss: 0.3502 - val_accuracy: 0.9256\n",
      "Epoch 46/1000\n",
      "20/29 [===================>..........] - ETA: 0s - loss: 0.6512 - accuracy: 0.7270\n",
      "Epoch 46: saving model to model/keypoint_classifier\\keypoint_classifier.hdf5\n",
      "29/29 [==============================] - 0s 6ms/step - loss: 0.6353 - accuracy: 0.7359 - val_loss: 0.3498 - val_accuracy: 0.9240\n",
      "Epoch 47/1000\n",
      "21/29 [====================>.........] - ETA: 0s - loss: 0.6187 - accuracy: 0.7426\n",
      "Epoch 47: saving model to model/keypoint_classifier\\keypoint_classifier.hdf5\n",
      "29/29 [==============================] - 0s 4ms/step - loss: 0.6134 - accuracy: 0.7451 - val_loss: 0.3421 - val_accuracy: 0.9282\n",
      "Epoch 48/1000\n",
      "24/29 [=======================>......] - ETA: 0s - loss: 0.6115 - accuracy: 0.7412\n",
      "Epoch 48: saving model to model/keypoint_classifier\\keypoint_classifier.hdf5\n",
      "29/29 [==============================] - 0s 5ms/step - loss: 0.6104 - accuracy: 0.7429 - val_loss: 0.3401 - val_accuracy: 0.9240\n",
      "Epoch 49/1000\n",
      " 1/29 [>.............................] - ETA: 0s - loss: 0.5423 - accuracy: 0.7969\n",
      "Epoch 49: saving model to model/keypoint_classifier\\keypoint_classifier.hdf5\n",
      "29/29 [==============================] - 0s 4ms/step - loss: 0.6019 - accuracy: 0.7507 - val_loss: 0.3285 - val_accuracy: 0.9282\n",
      "Epoch 50/1000\n",
      "24/29 [=======================>......] - ETA: 0s - loss: 0.6098 - accuracy: 0.7523\n",
      "Epoch 50: saving model to model/keypoint_classifier\\keypoint_classifier.hdf5\n",
      "29/29 [==============================] - 0s 5ms/step - loss: 0.6028 - accuracy: 0.7577 - val_loss: 0.3322 - val_accuracy: 0.9315\n",
      "Epoch 51/1000\n",
      "24/29 [=======================>......] - ETA: 0s - loss: 0.6067 - accuracy: 0.7536\n",
      "Epoch 51: saving model to model/keypoint_classifier\\keypoint_classifier.hdf5\n",
      "29/29 [==============================] - 0s 6ms/step - loss: 0.6089 - accuracy: 0.7504 - val_loss: 0.3340 - val_accuracy: 0.9265\n",
      "Epoch 52/1000\n",
      "26/29 [=========================>....] - ETA: 0s - loss: 0.5952 - accuracy: 0.7545\n",
      "Epoch 52: saving model to model/keypoint_classifier\\keypoint_classifier.hdf5\n",
      "29/29 [==============================] - 0s 4ms/step - loss: 0.5956 - accuracy: 0.7524 - val_loss: 0.3309 - val_accuracy: 0.9365\n",
      "Epoch 53/1000\n",
      "27/29 [==========================>...] - ETA: 0s - loss: 0.5973 - accuracy: 0.7598\n",
      "Epoch 53: saving model to model/keypoint_classifier\\keypoint_classifier.hdf5\n",
      "29/29 [==============================] - 0s 5ms/step - loss: 0.5981 - accuracy: 0.7582 - val_loss: 0.3257 - val_accuracy: 0.9357\n",
      "Epoch 54/1000\n",
      "24/29 [=======================>......] - ETA: 0s - loss: 0.6049 - accuracy: 0.7510\n",
      "Epoch 54: saving model to model/keypoint_classifier\\keypoint_classifier.hdf5\n",
      "29/29 [==============================] - 0s 5ms/step - loss: 0.5985 - accuracy: 0.7563 - val_loss: 0.3123 - val_accuracy: 0.9415\n",
      "Epoch 55/1000\n",
      "27/29 [==========================>...] - ETA: 0s - loss: 0.5926 - accuracy: 0.7578\n",
      "Epoch 55: saving model to model/keypoint_classifier\\keypoint_classifier.hdf5\n",
      "29/29 [==============================] - 0s 5ms/step - loss: 0.5977 - accuracy: 0.7574 - val_loss: 0.3189 - val_accuracy: 0.9373\n",
      "Epoch 56/1000\n",
      "23/29 [======================>.......] - ETA: 0s - loss: 0.5800 - accuracy: 0.7629\n",
      "Epoch 56: saving model to model/keypoint_classifier\\keypoint_classifier.hdf5\n",
      "29/29 [==============================] - 0s 6ms/step - loss: 0.5754 - accuracy: 0.7624 - val_loss: 0.3201 - val_accuracy: 0.9382\n",
      "Epoch 57/1000\n",
      "26/29 [=========================>....] - ETA: 0s - loss: 0.5953 - accuracy: 0.7665\n",
      "Epoch 57: saving model to model/keypoint_classifier\\keypoint_classifier.hdf5\n",
      "29/29 [==============================] - 0s 5ms/step - loss: 0.5923 - accuracy: 0.7680 - val_loss: 0.3124 - val_accuracy: 0.9440\n",
      "Epoch 58/1000\n",
      "25/29 [========================>.....] - ETA: 0s - loss: 0.5942 - accuracy: 0.7591\n",
      "Epoch 58: saving model to model/keypoint_classifier\\keypoint_classifier.hdf5\n",
      "29/29 [==============================] - 0s 5ms/step - loss: 0.5894 - accuracy: 0.7602 - val_loss: 0.3102 - val_accuracy: 0.9415\n",
      "Epoch 59/1000\n",
      "26/29 [=========================>....] - ETA: 0s - loss: 0.5875 - accuracy: 0.7596\n",
      "Epoch 59: saving model to model/keypoint_classifier\\keypoint_classifier.hdf5\n",
      "29/29 [==============================] - 0s 5ms/step - loss: 0.5846 - accuracy: 0.7610 - val_loss: 0.3084 - val_accuracy: 0.9398\n",
      "Epoch 60/1000\n",
      "26/29 [=========================>....] - ETA: 0s - loss: 0.5740 - accuracy: 0.7674\n",
      "Epoch 60: saving model to model/keypoint_classifier\\keypoint_classifier.hdf5\n",
      "29/29 [==============================] - 0s 4ms/step - loss: 0.5687 - accuracy: 0.7705 - val_loss: 0.3053 - val_accuracy: 0.9365\n",
      "Epoch 61/1000\n",
      "20/29 [===================>..........] - ETA: 0s - loss: 0.5733 - accuracy: 0.7680\n",
      "Epoch 61: saving model to model/keypoint_classifier\\keypoint_classifier.hdf5\n",
      "29/29 [==============================] - 0s 5ms/step - loss: 0.5693 - accuracy: 0.7708 - val_loss: 0.3046 - val_accuracy: 0.9432\n",
      "Epoch 62/1000\n",
      "23/29 [======================>.......] - ETA: 0s - loss: 0.5908 - accuracy: 0.7599\n",
      "Epoch 62: saving model to model/keypoint_classifier\\keypoint_classifier.hdf5\n",
      "29/29 [==============================] - 0s 5ms/step - loss: 0.5870 - accuracy: 0.7585 - val_loss: 0.3081 - val_accuracy: 0.9440\n",
      "Epoch 63/1000\n",
      "24/29 [=======================>......] - ETA: 0s - loss: 0.5755 - accuracy: 0.7715\n",
      "Epoch 63: saving model to model/keypoint_classifier\\keypoint_classifier.hdf5\n",
      "29/29 [==============================] - 0s 5ms/step - loss: 0.5728 - accuracy: 0.7724 - val_loss: 0.3036 - val_accuracy: 0.9457\n",
      "Epoch 64/1000\n",
      "26/29 [=========================>....] - ETA: 0s - loss: 0.5408 - accuracy: 0.7876\n",
      "Epoch 64: saving model to model/keypoint_classifier\\keypoint_classifier.hdf5\n",
      "29/29 [==============================] - 0s 5ms/step - loss: 0.5438 - accuracy: 0.7852 - val_loss: 0.2899 - val_accuracy: 0.9457\n",
      "Epoch 65/1000\n",
      "23/29 [======================>.......] - ETA: 0s - loss: 0.5699 - accuracy: 0.7724\n",
      "Epoch 65: saving model to model/keypoint_classifier\\keypoint_classifier.hdf5\n",
      "29/29 [==============================] - 0s 6ms/step - loss: 0.5706 - accuracy: 0.7738 - val_loss: 0.2966 - val_accuracy: 0.9398\n",
      "Epoch 66/1000\n",
      "26/29 [=========================>....] - ETA: 0s - loss: 0.5538 - accuracy: 0.7909\n",
      "Epoch 66: saving model to model/keypoint_classifier\\keypoint_classifier.hdf5\n",
      "29/29 [==============================] - 0s 5ms/step - loss: 0.5558 - accuracy: 0.7894 - val_loss: 0.2868 - val_accuracy: 0.9449\n",
      "Epoch 67/1000\n",
      "24/29 [=======================>......] - ETA: 0s - loss: 0.5549 - accuracy: 0.7725\n",
      "Epoch 67: saving model to model/keypoint_classifier\\keypoint_classifier.hdf5\n",
      "29/29 [==============================] - 0s 5ms/step - loss: 0.5580 - accuracy: 0.7702 - val_loss: 0.2853 - val_accuracy: 0.9465\n",
      "Epoch 68/1000\n",
      "27/29 [==========================>...] - ETA: 0s - loss: 0.5706 - accuracy: 0.7671\n",
      "Epoch 68: saving model to model/keypoint_classifier\\keypoint_classifier.hdf5\n",
      "29/29 [==============================] - 0s 5ms/step - loss: 0.5673 - accuracy: 0.7682 - val_loss: 0.2897 - val_accuracy: 0.9507\n",
      "Epoch 69/1000\n",
      "27/29 [==========================>...] - ETA: 0s - loss: 0.5571 - accuracy: 0.7726\n",
      "Epoch 69: saving model to model/keypoint_classifier\\keypoint_classifier.hdf5\n",
      "29/29 [==============================] - 0s 5ms/step - loss: 0.5589 - accuracy: 0.7721 - val_loss: 0.2829 - val_accuracy: 0.9482\n",
      "Epoch 70/1000\n",
      "26/29 [=========================>....] - ETA: 0s - loss: 0.5609 - accuracy: 0.7743\n",
      "Epoch 70: saving model to model/keypoint_classifier\\keypoint_classifier.hdf5\n",
      "29/29 [==============================] - 0s 5ms/step - loss: 0.5600 - accuracy: 0.7758 - val_loss: 0.2832 - val_accuracy: 0.9440\n",
      "Epoch 71/1000\n",
      "27/29 [==========================>...] - ETA: 0s - loss: 0.5442 - accuracy: 0.7870\n",
      "Epoch 71: saving model to model/keypoint_classifier\\keypoint_classifier.hdf5\n",
      "29/29 [==============================] - 0s 6ms/step - loss: 0.5431 - accuracy: 0.7891 - val_loss: 0.2805 - val_accuracy: 0.9490\n",
      "Epoch 72/1000\n",
      "24/29 [=======================>......] - ETA: 0s - loss: 0.5562 - accuracy: 0.7786\n",
      "Epoch 72: saving model to model/keypoint_classifier\\keypoint_classifier.hdf5\n",
      "29/29 [==============================] - 0s 6ms/step - loss: 0.5608 - accuracy: 0.7772 - val_loss: 0.2812 - val_accuracy: 0.9424\n",
      "Epoch 73/1000\n",
      "19/29 [==================>...........] - ETA: 0s - loss: 0.5515 - accuracy: 0.7808\n",
      "Epoch 73: saving model to model/keypoint_classifier\\keypoint_classifier.hdf5\n",
      "29/29 [==============================] - 0s 6ms/step - loss: 0.5641 - accuracy: 0.7777 - val_loss: 0.2844 - val_accuracy: 0.9465\n",
      "Epoch 74/1000\n",
      "27/29 [==========================>...] - ETA: 0s - loss: 0.5478 - accuracy: 0.7856\n",
      "Epoch 74: saving model to model/keypoint_classifier\\keypoint_classifier.hdf5\n",
      "29/29 [==============================] - 0s 5ms/step - loss: 0.5529 - accuracy: 0.7847 - val_loss: 0.2836 - val_accuracy: 0.9398\n",
      "Epoch 75/1000\n",
      "28/29 [===========================>..] - ETA: 0s - loss: 0.5385 - accuracy: 0.7885\n",
      "Epoch 75: saving model to model/keypoint_classifier\\keypoint_classifier.hdf5\n",
      "29/29 [==============================] - 0s 4ms/step - loss: 0.5379 - accuracy: 0.7889 - val_loss: 0.2789 - val_accuracy: 0.9407\n",
      "Epoch 76/1000\n",
      "22/29 [=====================>........] - ETA: 0s - loss: 0.5496 - accuracy: 0.7809\n",
      "Epoch 76: saving model to model/keypoint_classifier\\keypoint_classifier.hdf5\n",
      "29/29 [==============================] - 0s 5ms/step - loss: 0.5613 - accuracy: 0.7749 - val_loss: 0.2694 - val_accuracy: 0.9557\n",
      "Epoch 77/1000\n",
      "24/29 [=======================>......] - ETA: 0s - loss: 0.5161 - accuracy: 0.8034\n",
      "Epoch 77: saving model to model/keypoint_classifier\\keypoint_classifier.hdf5\n",
      "29/29 [==============================] - 0s 5ms/step - loss: 0.5160 - accuracy: 0.8067 - val_loss: 0.2640 - val_accuracy: 0.9499\n",
      "Epoch 78/1000\n",
      "24/29 [=======================>......] - ETA: 0s - loss: 0.5682 - accuracy: 0.7832\n",
      "Epoch 78: saving model to model/keypoint_classifier\\keypoint_classifier.hdf5\n",
      "29/29 [==============================] - 0s 6ms/step - loss: 0.5531 - accuracy: 0.7855 - val_loss: 0.2653 - val_accuracy: 0.9490\n",
      "Epoch 79/1000\n",
      "23/29 [======================>.......] - ETA: 0s - loss: 0.5400 - accuracy: 0.7914\n",
      "Epoch 79: saving model to model/keypoint_classifier\\keypoint_classifier.hdf5\n",
      "29/29 [==============================] - 0s 7ms/step - loss: 0.5328 - accuracy: 0.7955 - val_loss: 0.2687 - val_accuracy: 0.9465\n",
      "Epoch 80/1000\n",
      "25/29 [========================>.....] - ETA: 0s - loss: 0.5220 - accuracy: 0.7925\n",
      "Epoch 80: saving model to model/keypoint_classifier\\keypoint_classifier.hdf5\n",
      "29/29 [==============================] - 0s 4ms/step - loss: 0.5252 - accuracy: 0.7908 - val_loss: 0.2655 - val_accuracy: 0.9465\n",
      "Epoch 81/1000\n",
      " 1/29 [>.............................] - ETA: 0s - loss: 0.6531 - accuracy: 0.7031\n",
      "Epoch 81: saving model to model/keypoint_classifier\\keypoint_classifier.hdf5\n",
      "29/29 [==============================] - 0s 3ms/step - loss: 0.5231 - accuracy: 0.7916 - val_loss: 0.2637 - val_accuracy: 0.9449\n",
      "Epoch 82/1000\n",
      " 1/29 [>.............................] - ETA: 0s - loss: 0.6238 - accuracy: 0.7500\n",
      "Epoch 82: saving model to model/keypoint_classifier\\keypoint_classifier.hdf5\n",
      "29/29 [==============================] - 0s 3ms/step - loss: 0.5330 - accuracy: 0.7933 - val_loss: 0.2652 - val_accuracy: 0.9449\n",
      "Epoch 83/1000\n",
      "25/29 [========================>.....] - ETA: 0s - loss: 0.5349 - accuracy: 0.7922\n",
      "Epoch 83: saving model to model/keypoint_classifier\\keypoint_classifier.hdf5\n",
      "29/29 [==============================] - 0s 5ms/step - loss: 0.5360 - accuracy: 0.7911 - val_loss: 0.2707 - val_accuracy: 0.9474\n",
      "Epoch 84/1000\n",
      "22/29 [=====================>........] - ETA: 0s - loss: 0.5384 - accuracy: 0.7859\n",
      "Epoch 84: saving model to model/keypoint_classifier\\keypoint_classifier.hdf5\n",
      "29/29 [==============================] - 0s 5ms/step - loss: 0.5273 - accuracy: 0.7936 - val_loss: 0.2642 - val_accuracy: 0.9524\n",
      "Epoch 85/1000\n",
      "21/29 [====================>.........] - ETA: 0s - loss: 0.5370 - accuracy: 0.7932\n",
      "Epoch 85: saving model to model/keypoint_classifier\\keypoint_classifier.hdf5\n",
      "29/29 [==============================] - 0s 5ms/step - loss: 0.5317 - accuracy: 0.7916 - val_loss: 0.2526 - val_accuracy: 0.9591\n",
      "Epoch 86/1000\n",
      "26/29 [=========================>....] - ETA: 0s - loss: 0.5338 - accuracy: 0.7930\n",
      "Epoch 86: saving model to model/keypoint_classifier\\keypoint_classifier.hdf5\n",
      "29/29 [==============================] - 0s 5ms/step - loss: 0.5335 - accuracy: 0.7922 - val_loss: 0.2551 - val_accuracy: 0.9549\n",
      "Epoch 87/1000\n",
      "27/29 [==========================>...] - ETA: 0s - loss: 0.5316 - accuracy: 0.7975\n",
      "Epoch 87: saving model to model/keypoint_classifier\\keypoint_classifier.hdf5\n",
      "29/29 [==============================] - 0s 5ms/step - loss: 0.5347 - accuracy: 0.7967 - val_loss: 0.2610 - val_accuracy: 0.9465\n",
      "Epoch 88/1000\n",
      "25/29 [========================>.....] - ETA: 0s - loss: 0.5383 - accuracy: 0.7931\n",
      "Epoch 88: saving model to model/keypoint_classifier\\keypoint_classifier.hdf5\n",
      "29/29 [==============================] - 0s 5ms/step - loss: 0.5408 - accuracy: 0.7911 - val_loss: 0.2590 - val_accuracy: 0.9557\n",
      "Epoch 89/1000\n",
      "22/29 [=====================>........] - ETA: 0s - loss: 0.5423 - accuracy: 0.7827\n",
      "Epoch 89: saving model to model/keypoint_classifier\\keypoint_classifier.hdf5\n",
      "29/29 [==============================] - 0s 6ms/step - loss: 0.5303 - accuracy: 0.7903 - val_loss: 0.2588 - val_accuracy: 0.9557\n",
      "Epoch 90/1000\n",
      "25/29 [========================>.....] - ETA: 0s - loss: 0.5286 - accuracy: 0.7916\n",
      "Epoch 90: saving model to model/keypoint_classifier\\keypoint_classifier.hdf5\n",
      "29/29 [==============================] - 0s 5ms/step - loss: 0.5281 - accuracy: 0.7877 - val_loss: 0.2522 - val_accuracy: 0.9499\n",
      "Epoch 91/1000\n",
      "25/29 [========================>.....] - ETA: 0s - loss: 0.5189 - accuracy: 0.7975\n",
      "Epoch 91: saving model to model/keypoint_classifier\\keypoint_classifier.hdf5\n",
      "29/29 [==============================] - 0s 6ms/step - loss: 0.5206 - accuracy: 0.7994 - val_loss: 0.2608 - val_accuracy: 0.9440\n",
      "Epoch 92/1000\n",
      "25/29 [========================>.....] - ETA: 0s - loss: 0.5366 - accuracy: 0.7862\n",
      "Epoch 92: saving model to model/keypoint_classifier\\keypoint_classifier.hdf5\n",
      "29/29 [==============================] - 0s 6ms/step - loss: 0.5364 - accuracy: 0.7872 - val_loss: 0.2623 - val_accuracy: 0.9499\n",
      "Epoch 93/1000\n",
      "23/29 [======================>.......] - ETA: 0s - loss: 0.5201 - accuracy: 0.8026\n",
      "Epoch 93: saving model to model/keypoint_classifier\\keypoint_classifier.hdf5\n",
      "29/29 [==============================] - 0s 6ms/step - loss: 0.5163 - accuracy: 0.8047 - val_loss: 0.2596 - val_accuracy: 0.9557\n",
      "Epoch 94/1000\n",
      "24/29 [=======================>......] - ETA: 0s - loss: 0.5331 - accuracy: 0.8011\n",
      "Epoch 94: saving model to model/keypoint_classifier\\keypoint_classifier.hdf5\n",
      "29/29 [==============================] - 0s 5ms/step - loss: 0.5247 - accuracy: 0.8047 - val_loss: 0.2631 - val_accuracy: 0.9499\n",
      "Epoch 95/1000\n",
      "25/29 [========================>.....] - ETA: 0s - loss: 0.5153 - accuracy: 0.8009\n",
      "Epoch 95: saving model to model/keypoint_classifier\\keypoint_classifier.hdf5\n",
      "29/29 [==============================] - 0s 5ms/step - loss: 0.5202 - accuracy: 0.7983 - val_loss: 0.2577 - val_accuracy: 0.9465\n",
      "Epoch 96/1000\n",
      "20/29 [===================>..........] - ETA: 0s - loss: 0.5214 - accuracy: 0.8020\n",
      "Epoch 96: saving model to model/keypoint_classifier\\keypoint_classifier.hdf5\n",
      "29/29 [==============================] - 0s 6ms/step - loss: 0.5209 - accuracy: 0.7978 - val_loss: 0.2609 - val_accuracy: 0.9457\n",
      "Epoch 97/1000\n",
      "20/29 [===================>..........] - ETA: 0s - loss: 0.5038 - accuracy: 0.8145\n",
      "Epoch 97: saving model to model/keypoint_classifier\\keypoint_classifier.hdf5\n",
      "29/29 [==============================] - 0s 5ms/step - loss: 0.5107 - accuracy: 0.8117 - val_loss: 0.2561 - val_accuracy: 0.9541\n",
      "Epoch 98/1000\n",
      "24/29 [=======================>......] - ETA: 0s - loss: 0.5267 - accuracy: 0.7979\n",
      "Epoch 98: saving model to model/keypoint_classifier\\keypoint_classifier.hdf5\n",
      "29/29 [==============================] - 0s 5ms/step - loss: 0.5272 - accuracy: 0.7961 - val_loss: 0.2514 - val_accuracy: 0.9549\n",
      "Epoch 99/1000\n",
      "23/29 [======================>.......] - ETA: 0s - loss: 0.4970 - accuracy: 0.8088\n",
      "Epoch 99: saving model to model/keypoint_classifier\\keypoint_classifier.hdf5\n",
      "29/29 [==============================] - 0s 6ms/step - loss: 0.5098 - accuracy: 0.8014 - val_loss: 0.2490 - val_accuracy: 0.9515\n",
      "Epoch 100/1000\n",
      "23/29 [======================>.......] - ETA: 0s - loss: 0.5239 - accuracy: 0.7938\n",
      "Epoch 100: saving model to model/keypoint_classifier\\keypoint_classifier.hdf5\n",
      "29/29 [==============================] - 0s 6ms/step - loss: 0.5172 - accuracy: 0.7978 - val_loss: 0.2478 - val_accuracy: 0.9557\n",
      "Epoch 101/1000\n",
      "23/29 [======================>.......] - ETA: 0s - loss: 0.5001 - accuracy: 0.8101\n",
      "Epoch 101: saving model to model/keypoint_classifier\\keypoint_classifier.hdf5\n",
      "29/29 [==============================] - 0s 5ms/step - loss: 0.4989 - accuracy: 0.8058 - val_loss: 0.2509 - val_accuracy: 0.9474\n",
      "Epoch 102/1000\n",
      "25/29 [========================>.....] - ETA: 0s - loss: 0.5083 - accuracy: 0.7972\n",
      "Epoch 102: saving model to model/keypoint_classifier\\keypoint_classifier.hdf5\n",
      "29/29 [==============================] - 0s 5ms/step - loss: 0.5069 - accuracy: 0.7981 - val_loss: 0.2535 - val_accuracy: 0.9432\n",
      "Epoch 103/1000\n",
      "24/29 [=======================>......] - ETA: 0s - loss: 0.4977 - accuracy: 0.8109\n",
      "Epoch 103: saving model to model/keypoint_classifier\\keypoint_classifier.hdf5\n",
      "29/29 [==============================] - 0s 5ms/step - loss: 0.4940 - accuracy: 0.8128 - val_loss: 0.2464 - val_accuracy: 0.9532\n",
      "Epoch 104/1000\n",
      "25/29 [========================>.....] - ETA: 0s - loss: 0.5168 - accuracy: 0.8041\n",
      "Epoch 104: saving model to model/keypoint_classifier\\keypoint_classifier.hdf5\n",
      "29/29 [==============================] - 0s 5ms/step - loss: 0.5135 - accuracy: 0.8053 - val_loss: 0.2372 - val_accuracy: 0.9574\n",
      "Epoch 105/1000\n",
      "25/29 [========================>.....] - ETA: 0s - loss: 0.4835 - accuracy: 0.8209\n",
      "Epoch 105: saving model to model/keypoint_classifier\\keypoint_classifier.hdf5\n",
      "29/29 [==============================] - 0s 5ms/step - loss: 0.4860 - accuracy: 0.8184 - val_loss: 0.2350 - val_accuracy: 0.9557\n",
      "Epoch 106/1000\n",
      "21/29 [====================>.........] - ETA: 0s - loss: 0.5140 - accuracy: 0.7995\n",
      "Epoch 106: saving model to model/keypoint_classifier\\keypoint_classifier.hdf5\n",
      "29/29 [==============================] - 0s 6ms/step - loss: 0.5148 - accuracy: 0.8000 - val_loss: 0.2395 - val_accuracy: 0.9557\n",
      "Epoch 107/1000\n",
      "25/29 [========================>.....] - ETA: 0s - loss: 0.4897 - accuracy: 0.8075\n",
      "Epoch 107: saving model to model/keypoint_classifier\\keypoint_classifier.hdf5\n",
      "29/29 [==============================] - 0s 5ms/step - loss: 0.4982 - accuracy: 0.8061 - val_loss: 0.2399 - val_accuracy: 0.9457\n",
      "Epoch 108/1000\n",
      "26/29 [=========================>....] - ETA: 0s - loss: 0.5229 - accuracy: 0.7945\n",
      "Epoch 108: saving model to model/keypoint_classifier\\keypoint_classifier.hdf5\n",
      "29/29 [==============================] - 0s 5ms/step - loss: 0.5203 - accuracy: 0.7947 - val_loss: 0.2410 - val_accuracy: 0.9524\n",
      "Epoch 109/1000\n",
      "25/29 [========================>.....] - ETA: 0s - loss: 0.5038 - accuracy: 0.8062\n",
      "Epoch 109: saving model to model/keypoint_classifier\\keypoint_classifier.hdf5\n",
      "29/29 [==============================] - 0s 5ms/step - loss: 0.5112 - accuracy: 0.8039 - val_loss: 0.2382 - val_accuracy: 0.9507\n",
      "Epoch 110/1000\n",
      "23/29 [======================>.......] - ETA: 0s - loss: 0.4983 - accuracy: 0.8115\n",
      "Epoch 110: saving model to model/keypoint_classifier\\keypoint_classifier.hdf5\n",
      "29/29 [==============================] - 0s 6ms/step - loss: 0.4945 - accuracy: 0.8106 - val_loss: 0.2383 - val_accuracy: 0.9515\n",
      "Epoch 111/1000\n",
      "24/29 [=======================>......] - ETA: 0s - loss: 0.5156 - accuracy: 0.8060\n",
      "Epoch 111: saving model to model/keypoint_classifier\\keypoint_classifier.hdf5\n",
      "29/29 [==============================] - 0s 5ms/step - loss: 0.5108 - accuracy: 0.8070 - val_loss: 0.2348 - val_accuracy: 0.9549\n",
      "Epoch 112/1000\n",
      "25/29 [========================>.....] - ETA: 0s - loss: 0.5035 - accuracy: 0.8081\n",
      "Epoch 112: saving model to model/keypoint_classifier\\keypoint_classifier.hdf5\n",
      "29/29 [==============================] - 0s 4ms/step - loss: 0.5050 - accuracy: 0.8078 - val_loss: 0.2417 - val_accuracy: 0.9499\n",
      "Epoch 113/1000\n",
      "24/29 [=======================>......] - ETA: 0s - loss: 0.5144 - accuracy: 0.7913\n",
      "Epoch 113: saving model to model/keypoint_classifier\\keypoint_classifier.hdf5\n",
      "29/29 [==============================] - 0s 4ms/step - loss: 0.5091 - accuracy: 0.7958 - val_loss: 0.2442 - val_accuracy: 0.9482\n",
      "Epoch 114/1000\n",
      "29/29 [==============================] - ETA: 0s - loss: 0.5215 - accuracy: 0.8042\n",
      "Epoch 114: saving model to model/keypoint_classifier\\keypoint_classifier.hdf5\n",
      "29/29 [==============================] - 0s 5ms/step - loss: 0.5215 - accuracy: 0.8042 - val_loss: 0.2496 - val_accuracy: 0.9499\n",
      "Epoch 115/1000\n",
      "25/29 [========================>.....] - ETA: 0s - loss: 0.4924 - accuracy: 0.8072\n",
      "Epoch 115: saving model to model/keypoint_classifier\\keypoint_classifier.hdf5\n",
      "29/29 [==============================] - 0s 5ms/step - loss: 0.4925 - accuracy: 0.8072 - val_loss: 0.2447 - val_accuracy: 0.9449\n",
      "Epoch 116/1000\n",
      "23/29 [======================>.......] - ETA: 0s - loss: 0.4992 - accuracy: 0.8173\n",
      "Epoch 116: saving model to model/keypoint_classifier\\keypoint_classifier.hdf5\n",
      "29/29 [==============================] - 0s 5ms/step - loss: 0.5033 - accuracy: 0.8156 - val_loss: 0.2362 - val_accuracy: 0.9499\n",
      "Epoch 117/1000\n",
      " 1/29 [>.............................] - ETA: 0s - loss: 0.5133 - accuracy: 0.8125\n",
      "Epoch 117: saving model to model/keypoint_classifier\\keypoint_classifier.hdf5\n",
      "29/29 [==============================] - 0s 4ms/step - loss: 0.5184 - accuracy: 0.7894 - val_loss: 0.2403 - val_accuracy: 0.9499\n",
      "Epoch 118/1000\n",
      "26/29 [=========================>....] - ETA: 0s - loss: 0.5072 - accuracy: 0.7996\n",
      "Epoch 118: saving model to model/keypoint_classifier\\keypoint_classifier.hdf5\n",
      "29/29 [==============================] - 0s 4ms/step - loss: 0.5024 - accuracy: 0.8033 - val_loss: 0.2440 - val_accuracy: 0.9490\n",
      "Epoch 119/1000\n",
      "24/29 [=======================>......] - ETA: 0s - loss: 0.5159 - accuracy: 0.8008\n",
      "Epoch 119: saving model to model/keypoint_classifier\\keypoint_classifier.hdf5\n",
      "29/29 [==============================] - 0s 5ms/step - loss: 0.5115 - accuracy: 0.8028 - val_loss: 0.2372 - val_accuracy: 0.9499\n",
      "Epoch 120/1000\n",
      "23/29 [======================>.......] - ETA: 0s - loss: 0.4927 - accuracy: 0.8135\n",
      "Epoch 120: saving model to model/keypoint_classifier\\keypoint_classifier.hdf5\n",
      "29/29 [==============================] - 0s 5ms/step - loss: 0.4867 - accuracy: 0.8128 - val_loss: 0.2348 - val_accuracy: 0.9549\n",
      "Epoch 121/1000\n",
      "26/29 [=========================>....] - ETA: 0s - loss: 0.4812 - accuracy: 0.8173\n",
      "Epoch 121: saving model to model/keypoint_classifier\\keypoint_classifier.hdf5\n",
      "29/29 [==============================] - 0s 4ms/step - loss: 0.4878 - accuracy: 0.8162 - val_loss: 0.2452 - val_accuracy: 0.9482\n",
      "Epoch 122/1000\n",
      "24/29 [=======================>......] - ETA: 0s - loss: 0.4999 - accuracy: 0.8066\n",
      "Epoch 122: saving model to model/keypoint_classifier\\keypoint_classifier.hdf5\n",
      "29/29 [==============================] - 0s 5ms/step - loss: 0.5014 - accuracy: 0.8050 - val_loss: 0.2445 - val_accuracy: 0.9524\n",
      "Epoch 123/1000\n",
      "24/29 [=======================>......] - ETA: 0s - loss: 0.4984 - accuracy: 0.8105\n",
      "Epoch 123: saving model to model/keypoint_classifier\\keypoint_classifier.hdf5\n",
      "29/29 [==============================] - 0s 5ms/step - loss: 0.4958 - accuracy: 0.8120 - val_loss: 0.2394 - val_accuracy: 0.9524\n",
      "Epoch 124/1000\n",
      "26/29 [=========================>....] - ETA: 0s - loss: 0.5094 - accuracy: 0.8059\n",
      "Epoch 124: saving model to model/keypoint_classifier\\keypoint_classifier.hdf5\n",
      "29/29 [==============================] - 0s 5ms/step - loss: 0.5077 - accuracy: 0.8072 - val_loss: 0.2336 - val_accuracy: 0.9607\n",
      "Epoch 125/1000\n",
      "25/29 [========================>.....] - ETA: 0s - loss: 0.5220 - accuracy: 0.7987\n",
      "Epoch 125: saving model to model/keypoint_classifier\\keypoint_classifier.hdf5\n",
      "29/29 [==============================] - 0s 5ms/step - loss: 0.5182 - accuracy: 0.8008 - val_loss: 0.2420 - val_accuracy: 0.9507\n",
      "Epoch 126/1000\n",
      "27/29 [==========================>...] - ETA: 0s - loss: 0.4883 - accuracy: 0.8111\n",
      "Epoch 126: saving model to model/keypoint_classifier\\keypoint_classifier.hdf5\n",
      "29/29 [==============================] - 0s 5ms/step - loss: 0.4886 - accuracy: 0.8106 - val_loss: 0.2404 - val_accuracy: 0.9474\n",
      "Epoch 127/1000\n",
      "23/29 [======================>.......] - ETA: 0s - loss: 0.4673 - accuracy: 0.8247\n",
      "Epoch 127: saving model to model/keypoint_classifier\\keypoint_classifier.hdf5\n",
      "29/29 [==============================] - 0s 6ms/step - loss: 0.4736 - accuracy: 0.8206 - val_loss: 0.2373 - val_accuracy: 0.9507\n",
      "Epoch 128/1000\n",
      "26/29 [=========================>....] - ETA: 0s - loss: 0.4987 - accuracy: 0.8056\n",
      "Epoch 128: saving model to model/keypoint_classifier\\keypoint_classifier.hdf5\n",
      "29/29 [==============================] - 0s 4ms/step - loss: 0.4982 - accuracy: 0.8045 - val_loss: 0.2339 - val_accuracy: 0.9566\n",
      "Epoch 129/1000\n",
      "27/29 [==========================>...] - ETA: 0s - loss: 0.5021 - accuracy: 0.8061\n",
      "Epoch 129: saving model to model/keypoint_classifier\\keypoint_classifier.hdf5\n",
      "29/29 [==============================] - 0s 5ms/step - loss: 0.5023 - accuracy: 0.8067 - val_loss: 0.2399 - val_accuracy: 0.9549\n",
      "Epoch 130/1000\n",
      "27/29 [==========================>...] - ETA: 0s - loss: 0.4971 - accuracy: 0.8160\n",
      "Epoch 130: saving model to model/keypoint_classifier\\keypoint_classifier.hdf5\n",
      "29/29 [==============================] - 0s 5ms/step - loss: 0.4975 - accuracy: 0.8164 - val_loss: 0.2402 - val_accuracy: 0.9499\n",
      "Epoch 131/1000\n",
      "26/29 [=========================>....] - ETA: 0s - loss: 0.4858 - accuracy: 0.8176\n",
      "Epoch 131: saving model to model/keypoint_classifier\\keypoint_classifier.hdf5\n",
      "29/29 [==============================] - 0s 5ms/step - loss: 0.4851 - accuracy: 0.8181 - val_loss: 0.2338 - val_accuracy: 0.9532\n",
      "Epoch 132/1000\n",
      "26/29 [=========================>....] - ETA: 0s - loss: 0.4864 - accuracy: 0.8125\n",
      "Epoch 132: saving model to model/keypoint_classifier\\keypoint_classifier.hdf5\n",
      "29/29 [==============================] - 0s 5ms/step - loss: 0.4903 - accuracy: 0.8125 - val_loss: 0.2348 - val_accuracy: 0.9524\n",
      "Epoch 133/1000\n",
      "27/29 [==========================>...] - ETA: 0s - loss: 0.4761 - accuracy: 0.8287\n",
      "Epoch 133: saving model to model/keypoint_classifier\\keypoint_classifier.hdf5\n",
      "29/29 [==============================] - 0s 5ms/step - loss: 0.4802 - accuracy: 0.8281 - val_loss: 0.2312 - val_accuracy: 0.9507\n",
      "Epoch 134/1000\n",
      "22/29 [=====================>........] - ETA: 0s - loss: 0.4889 - accuracy: 0.8114\n",
      "Epoch 134: saving model to model/keypoint_classifier\\keypoint_classifier.hdf5\n",
      "29/29 [==============================] - 0s 5ms/step - loss: 0.4889 - accuracy: 0.8117 - val_loss: 0.2331 - val_accuracy: 0.9541\n",
      "Epoch 135/1000\n",
      "28/29 [===========================>..] - ETA: 0s - loss: 0.4857 - accuracy: 0.8131\n",
      "Epoch 135: saving model to model/keypoint_classifier\\keypoint_classifier.hdf5\n",
      "29/29 [==============================] - 0s 5ms/step - loss: 0.4867 - accuracy: 0.8120 - val_loss: 0.2341 - val_accuracy: 0.9524\n",
      "Epoch 136/1000\n",
      "25/29 [========================>.....] - ETA: 0s - loss: 0.4798 - accuracy: 0.8178\n",
      "Epoch 136: saving model to model/keypoint_classifier\\keypoint_classifier.hdf5\n",
      "29/29 [==============================] - 0s 5ms/step - loss: 0.4904 - accuracy: 0.8164 - val_loss: 0.2288 - val_accuracy: 0.9549\n",
      "Epoch 137/1000\n",
      "26/29 [=========================>....] - ETA: 0s - loss: 0.4919 - accuracy: 0.8128\n",
      "Epoch 137: saving model to model/keypoint_classifier\\keypoint_classifier.hdf5\n",
      "29/29 [==============================] - 0s 5ms/step - loss: 0.4875 - accuracy: 0.8153 - val_loss: 0.2324 - val_accuracy: 0.9499\n",
      "Epoch 138/1000\n",
      "26/29 [=========================>....] - ETA: 0s - loss: 0.4925 - accuracy: 0.8137\n",
      "Epoch 138: saving model to model/keypoint_classifier\\keypoint_classifier.hdf5\n",
      "29/29 [==============================] - 0s 5ms/step - loss: 0.4875 - accuracy: 0.8156 - val_loss: 0.2336 - val_accuracy: 0.9515\n",
      "Epoch 139/1000\n",
      "26/29 [=========================>....] - ETA: 0s - loss: 0.4792 - accuracy: 0.8203\n",
      "Epoch 139: saving model to model/keypoint_classifier\\keypoint_classifier.hdf5\n",
      "29/29 [==============================] - 0s 5ms/step - loss: 0.4821 - accuracy: 0.8198 - val_loss: 0.2264 - val_accuracy: 0.9574\n",
      "Epoch 140/1000\n",
      "26/29 [=========================>....] - ETA: 0s - loss: 0.4730 - accuracy: 0.8191\n",
      "Epoch 140: saving model to model/keypoint_classifier\\keypoint_classifier.hdf5\n",
      "29/29 [==============================] - 0s 5ms/step - loss: 0.4754 - accuracy: 0.8175 - val_loss: 0.2293 - val_accuracy: 0.9549\n",
      "Epoch 141/1000\n",
      "27/29 [==========================>...] - ETA: 0s - loss: 0.4910 - accuracy: 0.8058\n",
      "Epoch 141: saving model to model/keypoint_classifier\\keypoint_classifier.hdf5\n",
      "29/29 [==============================] - 0s 5ms/step - loss: 0.4909 - accuracy: 0.8061 - val_loss: 0.2304 - val_accuracy: 0.9524\n",
      "Epoch 142/1000\n",
      "28/29 [===========================>..] - ETA: 0s - loss: 0.4938 - accuracy: 0.8075\n",
      "Epoch 142: saving model to model/keypoint_classifier\\keypoint_classifier.hdf5\n",
      "29/29 [==============================] - 0s 5ms/step - loss: 0.4942 - accuracy: 0.8072 - val_loss: 0.2302 - val_accuracy: 0.9541\n",
      "Epoch 143/1000\n",
      "20/29 [===================>..........] - ETA: 0s - loss: 0.4703 - accuracy: 0.8223\n",
      "Epoch 143: saving model to model/keypoint_classifier\\keypoint_classifier.hdf5\n",
      "29/29 [==============================] - 0s 5ms/step - loss: 0.4712 - accuracy: 0.8234 - val_loss: 0.2395 - val_accuracy: 0.9490\n",
      "Epoch 144/1000\n",
      "21/29 [====================>.........] - ETA: 0s - loss: 0.4965 - accuracy: 0.8110\n",
      "Epoch 144: saving model to model/keypoint_classifier\\keypoint_classifier.hdf5\n",
      "29/29 [==============================] - 0s 5ms/step - loss: 0.4890 - accuracy: 0.8123 - val_loss: 0.2269 - val_accuracy: 0.9515\n",
      "Epoch 145/1000\n",
      "18/29 [=================>............] - ETA: 0s - loss: 0.4983 - accuracy: 0.8090\n",
      "Epoch 145: saving model to model/keypoint_classifier\\keypoint_classifier.hdf5\n",
      "29/29 [==============================] - 0s 5ms/step - loss: 0.5045 - accuracy: 0.8092 - val_loss: 0.2259 - val_accuracy: 0.9541\n",
      "Epoch 146/1000\n",
      "20/29 [===================>..........] - ETA: 0s - loss: 0.4677 - accuracy: 0.8184\n",
      "Epoch 146: saving model to model/keypoint_classifier\\keypoint_classifier.hdf5\n",
      "29/29 [==============================] - 0s 6ms/step - loss: 0.4600 - accuracy: 0.8217 - val_loss: 0.2349 - val_accuracy: 0.9465\n",
      "Epoch 147/1000\n",
      "28/29 [===========================>..] - ETA: 0s - loss: 0.4785 - accuracy: 0.8195\n",
      "Epoch 147: saving model to model/keypoint_classifier\\keypoint_classifier.hdf5\n",
      "29/29 [==============================] - 0s 5ms/step - loss: 0.4784 - accuracy: 0.8195 - val_loss: 0.2320 - val_accuracy: 0.9499\n",
      "Epoch 148/1000\n",
      "21/29 [====================>.........] - ETA: 0s - loss: 0.4670 - accuracy: 0.8229\n",
      "Epoch 148: saving model to model/keypoint_classifier\\keypoint_classifier.hdf5\n",
      "29/29 [==============================] - 0s 5ms/step - loss: 0.4559 - accuracy: 0.8267 - val_loss: 0.2222 - val_accuracy: 0.9532\n",
      "Epoch 149/1000\n",
      "27/29 [==========================>...] - ETA: 0s - loss: 0.4574 - accuracy: 0.8307\n",
      "Epoch 149: saving model to model/keypoint_classifier\\keypoint_classifier.hdf5\n",
      "29/29 [==============================] - 0s 5ms/step - loss: 0.4554 - accuracy: 0.8312 - val_loss: 0.2178 - val_accuracy: 0.9574\n",
      "Epoch 150/1000\n",
      "25/29 [========================>.....] - ETA: 0s - loss: 0.5073 - accuracy: 0.8091\n",
      "Epoch 150: saving model to model/keypoint_classifier\\keypoint_classifier.hdf5\n",
      "29/29 [==============================] - 0s 5ms/step - loss: 0.5035 - accuracy: 0.8097 - val_loss: 0.2306 - val_accuracy: 0.9482\n",
      "Epoch 151/1000\n",
      "24/29 [=======================>......] - ETA: 0s - loss: 0.4646 - accuracy: 0.8294\n",
      "Epoch 151: saving model to model/keypoint_classifier\\keypoint_classifier.hdf5\n",
      "29/29 [==============================] - 0s 5ms/step - loss: 0.4620 - accuracy: 0.8318 - val_loss: 0.2285 - val_accuracy: 0.9499\n",
      "Epoch 152/1000\n",
      "28/29 [===========================>..] - ETA: 0s - loss: 0.5044 - accuracy: 0.8178\n",
      "Epoch 152: saving model to model/keypoint_classifier\\keypoint_classifier.hdf5\n",
      "29/29 [==============================] - 0s 5ms/step - loss: 0.5038 - accuracy: 0.8181 - val_loss: 0.2311 - val_accuracy: 0.9549\n",
      "Epoch 153/1000\n",
      "26/29 [=========================>....] - ETA: 0s - loss: 0.4526 - accuracy: 0.8344\n",
      "Epoch 153: saving model to model/keypoint_classifier\\keypoint_classifier.hdf5\n",
      "29/29 [==============================] - 0s 5ms/step - loss: 0.4550 - accuracy: 0.8323 - val_loss: 0.2260 - val_accuracy: 0.9549\n",
      "Epoch 154/1000\n",
      "24/29 [=======================>......] - ETA: 0s - loss: 0.4543 - accuracy: 0.8307\n",
      "Epoch 154: saving model to model/keypoint_classifier\\keypoint_classifier.hdf5\n",
      "29/29 [==============================] - 0s 5ms/step - loss: 0.4611 - accuracy: 0.8301 - val_loss: 0.2200 - val_accuracy: 0.9591\n",
      "Epoch 155/1000\n",
      "21/29 [====================>.........] - ETA: 0s - loss: 0.4558 - accuracy: 0.8307\n",
      "Epoch 155: saving model to model/keypoint_classifier\\keypoint_classifier.hdf5\n",
      "29/29 [==============================] - 0s 6ms/step - loss: 0.4593 - accuracy: 0.8287 - val_loss: 0.2321 - val_accuracy: 0.9465\n",
      "Epoch 156/1000\n",
      "22/29 [=====================>........] - ETA: 0s - loss: 0.4717 - accuracy: 0.8168\n",
      "Epoch 156: saving model to model/keypoint_classifier\\keypoint_classifier.hdf5\n",
      "29/29 [==============================] - 0s 5ms/step - loss: 0.4691 - accuracy: 0.8159 - val_loss: 0.2324 - val_accuracy: 0.9490\n",
      "Epoch 157/1000\n",
      "26/29 [=========================>....] - ETA: 0s - loss: 0.4764 - accuracy: 0.8269\n",
      "Epoch 157: saving model to model/keypoint_classifier\\keypoint_classifier.hdf5\n",
      "29/29 [==============================] - 0s 5ms/step - loss: 0.4775 - accuracy: 0.8262 - val_loss: 0.2373 - val_accuracy: 0.9499\n",
      "Epoch 158/1000\n",
      "26/29 [=========================>....] - ETA: 0s - loss: 0.4725 - accuracy: 0.8236\n",
      "Epoch 158: saving model to model/keypoint_classifier\\keypoint_classifier.hdf5\n",
      "29/29 [==============================] - 0s 5ms/step - loss: 0.4684 - accuracy: 0.8242 - val_loss: 0.2363 - val_accuracy: 0.9457\n",
      "Epoch 159/1000\n",
      "25/29 [========================>.....] - ETA: 0s - loss: 0.4501 - accuracy: 0.8322\n",
      "Epoch 159: saving model to model/keypoint_classifier\\keypoint_classifier.hdf5\n",
      "29/29 [==============================] - 0s 4ms/step - loss: 0.4514 - accuracy: 0.8323 - val_loss: 0.2212 - val_accuracy: 0.9566\n",
      "Epoch 160/1000\n",
      "22/29 [=====================>........] - ETA: 0s - loss: 0.4628 - accuracy: 0.8217\n",
      "Epoch 160: saving model to model/keypoint_classifier\\keypoint_classifier.hdf5\n",
      "29/29 [==============================] - 0s 5ms/step - loss: 0.4670 - accuracy: 0.8201 - val_loss: 0.2251 - val_accuracy: 0.9566\n",
      "Epoch 161/1000\n",
      "27/29 [==========================>...] - ETA: 0s - loss: 0.4598 - accuracy: 0.8287\n",
      "Epoch 161: saving model to model/keypoint_classifier\\keypoint_classifier.hdf5\n",
      "29/29 [==============================] - 0s 5ms/step - loss: 0.4617 - accuracy: 0.8276 - val_loss: 0.2188 - val_accuracy: 0.9616\n",
      "Epoch 162/1000\n",
      "27/29 [==========================>...] - ETA: 0s - loss: 0.4612 - accuracy: 0.8203\n",
      "Epoch 162: saving model to model/keypoint_classifier\\keypoint_classifier.hdf5\n",
      "29/29 [==============================] - 0s 5ms/step - loss: 0.4639 - accuracy: 0.8195 - val_loss: 0.2218 - val_accuracy: 0.9557\n",
      "Epoch 163/1000\n",
      "25/29 [========================>.....] - ETA: 0s - loss: 0.4731 - accuracy: 0.8238\n",
      "Epoch 163: saving model to model/keypoint_classifier\\keypoint_classifier.hdf5\n",
      "29/29 [==============================] - 0s 4ms/step - loss: 0.4641 - accuracy: 0.8281 - val_loss: 0.2292 - val_accuracy: 0.9499\n",
      "Epoch 164/1000\n",
      "29/29 [==============================] - ETA: 0s - loss: 0.4628 - accuracy: 0.8270\n",
      "Epoch 164: saving model to model/keypoint_classifier\\keypoint_classifier.hdf5\n",
      "29/29 [==============================] - 0s 5ms/step - loss: 0.4628 - accuracy: 0.8270 - val_loss: 0.2205 - val_accuracy: 0.9599\n",
      "Epoch 165/1000\n",
      "23/29 [======================>.......] - ETA: 0s - loss: 0.4553 - accuracy: 0.8285\n",
      "Epoch 165: saving model to model/keypoint_classifier\\keypoint_classifier.hdf5\n",
      "29/29 [==============================] - 0s 5ms/step - loss: 0.4576 - accuracy: 0.8292 - val_loss: 0.2238 - val_accuracy: 0.9541\n",
      "Epoch 166/1000\n",
      "23/29 [======================>.......] - ETA: 0s - loss: 0.4514 - accuracy: 0.8254\n",
      "Epoch 166: saving model to model/keypoint_classifier\\keypoint_classifier.hdf5\n",
      "29/29 [==============================] - 0s 5ms/step - loss: 0.4557 - accuracy: 0.8231 - val_loss: 0.2297 - val_accuracy: 0.9515\n",
      "Epoch 167/1000\n",
      "28/29 [===========================>..] - ETA: 0s - loss: 0.4595 - accuracy: 0.8373\n",
      "Epoch 167: saving model to model/keypoint_classifier\\keypoint_classifier.hdf5\n",
      "29/29 [==============================] - 0s 4ms/step - loss: 0.4594 - accuracy: 0.8373 - val_loss: 0.2259 - val_accuracy: 0.9515\n",
      "Epoch 168/1000\n",
      "27/29 [==========================>...] - ETA: 0s - loss: 0.4481 - accuracy: 0.8443\n",
      "Epoch 168: saving model to model/keypoint_classifier\\keypoint_classifier.hdf5\n",
      "29/29 [==============================] - 0s 5ms/step - loss: 0.4497 - accuracy: 0.8443 - val_loss: 0.2211 - val_accuracy: 0.9557\n",
      "Epoch 169/1000\n",
      "23/29 [======================>.......] - ETA: 0s - loss: 0.4492 - accuracy: 0.8257\n",
      "Epoch 169: saving model to model/keypoint_classifier\\keypoint_classifier.hdf5\n",
      "29/29 [==============================] - 0s 5ms/step - loss: 0.4394 - accuracy: 0.8329 - val_loss: 0.2204 - val_accuracy: 0.9557\n",
      "Epoch 169: early stopping\n"
     ]
    },
    {
     "data": {
      "text/plain": [
       "<keras.src.callbacks.History at 0x25d0693b290>"
      ]
     },
     "execution_count": 11,
     "metadata": {},
     "output_type": "execute_result"
    }
   ],
   "source": [
    "model.fit(\n",
    "    X_train,\n",
    "    y_train,\n",
    "    epochs=1000,\n",
    "    batch_size=128,\n",
    "    validation_data=(X_test, y_test),\n",
    "    callbacks=[cp_callback, es_callback]\n",
    ")"
   ]
  },
  {
   "cell_type": "code",
   "execution_count": 12,
   "metadata": {
    "colab": {
     "base_uri": "https://localhost:8080/"
    },
    "id": "pxvb2Y299hE3",
    "outputId": "59eb3185-2e37-4b9e-bc9d-ab1b8ac29b7f"
   },
   "outputs": [
    {
     "name": "stdout",
     "output_type": "stream",
     "text": [
      "10/10 [==============================] - 0s 2ms/step - loss: 0.2204 - accuracy: 0.9557\n"
     ]
    }
   ],
   "source": [
    "# Model evaluation\n",
    "val_loss, val_acc = model.evaluate(X_test, y_test, batch_size=128)"
   ]
  },
  {
   "cell_type": "code",
   "execution_count": 13,
   "metadata": {
    "id": "RBkmDeUW9hE4"
   },
   "outputs": [],
   "source": [
    "# Loading the saved model\n",
    "model = tf.keras.models.load_model(model_save_path)"
   ]
  },
  {
   "cell_type": "code",
   "execution_count": 14,
   "metadata": {
    "colab": {
     "base_uri": "https://localhost:8080/"
    },
    "id": "tFz9Tb0I9hE4",
    "outputId": "1c3b3528-54ae-4ee2-ab04-77429211cbef"
   },
   "outputs": [
    {
     "name": "stdout",
     "output_type": "stream",
     "text": [
      "1/1 [==============================] - 0s 106ms/step\n",
      "[9.6182990e-01 3.8039677e-02 9.0827438e-05 3.9630788e-05]\n",
      "0\n"
     ]
    }
   ],
   "source": [
    "# Inference test\n",
    "predict_result = model.predict(np.array([X_test[0]]))\n",
    "print(np.squeeze(predict_result))\n",
    "print(np.argmax(np.squeeze(predict_result)))"
   ]
  },
  {
   "cell_type": "markdown",
   "metadata": {
    "id": "S3U4yNWx9hE4"
   },
   "source": [
    "# Confusion matrix"
   ]
  },
  {
   "cell_type": "code",
   "execution_count": 15,
   "metadata": {
    "colab": {
     "base_uri": "https://localhost:8080/",
     "height": 582
    },
    "id": "AP1V6SCk9hE5",
    "outputId": "08e41a80-7a4a-4619-8125-ecc371368d19"
   },
   "outputs": [
    {
     "name": "stdout",
     "output_type": "stream",
     "text": [
      "38/38 [==============================] - 0s 2ms/step\n"
     ]
    },
    {
     "data": {
      "image/png": "[encoded data removed]",
      "text/plain": [
       "<Figure size 700x600 with 2 Axes>"
      ]
     },
     "metadata": {},
     "output_type": "display_data"
    },
    {
     "name": "stdout",
     "output_type": "stream",
     "text": [
      "Classification Report\n",
      "              precision    recall  f1-score   support\n",
      "\n",
      "           0       0.99      1.00      0.99       402\n",
      "           1       1.00      0.87      0.93       366\n",
      "           2       0.88      0.99      0.93       343\n",
      "           3       1.00      1.00      1.00        86\n",
      "\n",
      "    accuracy                           0.96      1197\n",
      "   macro avg       0.97      0.96      0.96      1197\n",
      "weighted avg       0.96      0.96      0.96      1197\n",
      "\n"
     ]
    }
   ],
   "source": [
    "import pandas as pd\n",
    "import seaborn as sns\n",
    "import matplotlib.pyplot as plt\n",
    "from sklearn.metrics import confusion_matrix, classification_report\n",
    "\n",
    "def print_confusion_matrix(y_true, y_pred, report=True):\n",
    "    labels = sorted(list(set(y_true)))\n",
    "    cmx_data = confusion_matrix(y_true, y_pred, labels=labels)\n",
    "    \n",
    "    df_cmx = pd.DataFrame(cmx_data, index=labels, columns=labels)\n",
    " \n",
    "    fig, ax = plt.subplots(figsize=(7, 6))\n",
    "    sns.heatmap(df_cmx, annot=True, fmt='g' ,square=False)\n",
    "    ax.set_ylim(len(set(y_true)), 0)\n",
    "    plt.show()\n",
    "    \n",
    "    if report:\n",
    "        print('Classification Report')\n",
    "        print(classification_report(y_test, y_pred))\n",
    "\n",
    "Y_pred = model.predict(X_test)\n",
    "y_pred = np.argmax(Y_pred, axis=1)\n",
    "\n",
    "print_confusion_matrix(y_test, y_pred)"
   ]
  },
  {
   "cell_type": "markdown",
   "metadata": {
    "id": "FNP6aqzc9hE5"
   },
   "source": [
    "# Convert to model for Tensorflow-Lite"
   ]
  },
  {
   "cell_type": "code",
   "execution_count": 16,
   "metadata": {
    "id": "ODjnYyld9hE6"
   },
   "outputs": [
    {
     "name": "stderr",
     "output_type": "stream",
     "text": [
      "C:\\Users\\padol\\AppData\\Roaming\\Python\\Python311\\site-packages\\keras\\src\\engine\\training.py:3103: UserWarning: You are saving your model as an HDF5 file via `model.save()`. This file format is considered legacy. We recommend using instead the native Keras format, e.g. `model.save('my_model.keras')`.\n",
      "  saving_api.save_model(\n"
     ]
    }
   ],
   "source": [
    "# Save as a model dedicated to inference\n",
    "model.save(model_save_path, include_optimizer=False)"
   ]
  },
  {
   "cell_type": "code",
   "execution_count": 17,
   "metadata": {
    "colab": {
     "base_uri": "https://localhost:8080/"
    },
    "id": "zRfuK8Y59hE6",
    "outputId": "a4ca585c-b5d5-4244-8291-8674063209bb"
   },
   "outputs": [
    {
     "name": "stdout",
     "output_type": "stream",
     "text": [
      "INFO:tensorflow:Assets written to: C:\\Users\\padol\\AppData\\Local\\Temp\\tmpuhnjvyp5\\assets\n"
     ]
    },
    {
     "name": "stderr",
     "output_type": "stream",
     "text": [
      "INFO:tensorflow:Assets written to: C:\\Users\\padol\\AppData\\Local\\Temp\\tmpuhnjvyp5\\assets\n"
     ]
    },
    {
     "data": {
      "text/plain": [
       "6544"
      ]
     },
     "execution_count": 17,
     "metadata": {},
     "output_type": "execute_result"
    }
   ],
   "source": [
    "# Transform model (quantization)\n",
    "\n",
    "converter = tf.lite.TFLiteConverter.from_keras_model(model)\n",
    "converter.optimizations = [tf.lite.Optimize.DEFAULT]\n",
    "tflite_quantized_model = converter.convert()\n",
    "\n",
    "open(tflite_save_path, 'wb').write(tflite_quantized_model)"
   ]
  },
  {
   "cell_type": "markdown",
   "metadata": {
    "id": "CHBPBXdx9hE6"
   },
   "source": [
    "# Inference test"
   ]
  },
  {
   "cell_type": "code",
   "execution_count": 18,
   "metadata": {
    "id": "mGAzLocO9hE7"
   },
   "outputs": [],
   "source": [
    "interpreter = tf.lite.Interpreter(model_path=tflite_save_path)\n",
    "interpreter.allocate_tensors()"
   ]
  },
  {
   "cell_type": "code",
   "execution_count": 19,
   "metadata": {
    "id": "oQuDK8YS9hE7"
   },
   "outputs": [],
   "source": [
    "# Get I / O tensor\n",
    "input_details = interpreter.get_input_details()\n",
    "output_details = interpreter.get_output_details()"
   ]
  },
  {
   "cell_type": "code",
   "execution_count": 20,
   "metadata": {
    "id": "2_ixAf_l9hE7"
   },
   "outputs": [],
   "source": [
    "interpreter.set_tensor(input_details[0]['index'], np.array([X_test[0]]))"
   ]
  },
  {
   "cell_type": "code",
   "execution_count": 21,
   "metadata": {
    "colab": {
     "base_uri": "https://localhost:8080/"
    },
    "id": "s4FoAnuc9hE7",
    "outputId": "91f18257-8d8b-4ef3-c558-e9b5f94fabbf",
    "scrolled": true
   },
   "outputs": [
    {
     "name": "stdout",
     "output_type": "stream",
     "text": [
      "CPU times: total: 0 ns\n",
      "Wall time: 0 ns\n"
     ]
    }
   ],
   "source": [
    "%%time\n",
    "# Inference implementation\n",
    "interpreter.invoke()\n",
    "tflite_results = interpreter.get_tensor(output_details[0]['index'])"
   ]
  },
  {
   "cell_type": "code",
   "execution_count": 22,
   "metadata": {
    "colab": {
     "base_uri": "https://localhost:8080/"
    },
    "id": "vONjp19J9hE8",
    "outputId": "77205e24-fd00-42c4-f7b6-e06e527c2cba"
   },
   "outputs": [
    {
     "name": "stdout",
     "output_type": "stream",
     "text": [
      "[9.8231345e-01 1.7548842e-02 1.2963817e-04 8.1395592e-06]\n",
      "0\n"
     ]
    }
   ],
   "source": [
    "print(np.squeeze(tflite_results))\n",
    "print(np.argmax(np.squeeze(tflite_results)))"
   ]
  },
  {
   "cell_type": "code",
   "execution_count": null,
   "metadata": {},
   "outputs": [],
   "source": []
  },
  {
   "cell_type": "code",
   "execution_count": null,
   "metadata": {},
   "outputs": [],
   "source": []
  }
 ],
 "metadata": {
  "accelerator": "GPU",
  "colab": {
   "collapsed_sections": [],
   "name": "keypoint_classification_EN.ipynb",
   "provenance": [],
   "toc_visible": true
  },
  "kernelspec": {
   "display_name": "Python 3 (ipykernel)",
   "language": "python",
   "name": "python3"
  },
  "language_info": {
   "codemirror_mode": {
    "name": "ipython",
    "version": 3
   },
   "file_extension": ".py",
   "mimetype": "text/x-python",
   "name": "python",
   "nbconvert_exporter": "python",
   "pygments_lexer": "ipython3",
   "version": "3.11.3"
  }
 },
 "nbformat": 4,
 "nbformat_minor": 4
}
